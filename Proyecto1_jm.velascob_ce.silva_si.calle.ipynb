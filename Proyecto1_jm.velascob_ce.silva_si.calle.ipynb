{
 "cells": [
  {
   "cell_type": "markdown",
   "metadata": {},
   "source": [
    "# Proyecto 1 - Inteligencia de Negocios"
   ]
  },
  {
   "cell_type": "markdown",
   "metadata": {},
   "source": [
    "## Nombres\n",
    "- Sara Isabel Calle.\n",
    "- Carlos Enrique Silva L.\n",
    "- Juliana Velasco. "
   ]
  },
  {
   "cell_type": "markdown",
   "metadata": {},
   "source": [
    "## 1. Importación de Librerias"
   ]
  },
  {
   "cell_type": "code",
   "execution_count": 1,
   "metadata": {},
   "outputs": [],
   "source": [
    "import sys\n",
    "import warnings\n",
    "if not sys.warnoptions:\n",
    "    warnings.simplefilter(\"ignore\")"
   ]
  },
  {
   "cell_type": "code",
   "execution_count": 68,
   "metadata": {},
   "outputs": [
    {
     "name": "stderr",
     "output_type": "stream",
     "text": [
      "[nltk_data] Downloading package punkt to\n",
      "[nltk_data]     C:\\Users\\cesl\\AppData\\Roaming\\nltk_data...\n",
      "[nltk_data]   Package punkt is already up-to-date!\n",
      "[nltk_data] Downloading package stopwords to\n",
      "[nltk_data]     C:\\Users\\cesl\\AppData\\Roaming\\nltk_data...\n",
      "[nltk_data]   Package stopwords is already up-to-date!\n",
      "[nltk_data] Downloading package wordnet to\n",
      "[nltk_data]     C:\\Users\\cesl\\AppData\\Roaming\\nltk_data...\n",
      "[nltk_data]   Package wordnet is already up-to-date!\n"
     ]
    }
   ],
   "source": [
    "import pandas as pd\n",
    "import numpy as np\n",
    "import sklearn \n",
    "import seaborn as sns \n",
    "import matplotlib.pyplot as plt\n",
    "from imblearn.over_sampling import SMOTE\n",
    "import re, string, unicodedata\n",
    "from keras.preprocessing.text import Tokenizer \n",
    "from scipy.sparse import hstack\n",
    "\n",
    "\n",
    "#Importacions sklearn\n",
    "from sklearn import tree as tr\n",
    "from sklearn.tree import DecisionTreeClassifier \n",
    "from sklearn.neighbors import KNeighborsClassifier\n",
    "from sklearn.ensemble import RandomForestClassifier\n",
    "from sklearn.model_selection import train_test_split, GridSearchCV, KFold\n",
    "from sklearn.metrics import confusion_matrix,plot_confusion_matrix, classification_report, precision_score, recall_score, f1_score, accuracy_score\n",
    "from imblearn.pipeline import Pipeline\n",
    "from sklearn.preprocessing import StandardScaler, Normalizer, LabelEncoder\n",
    "from sklearn.ensemble import RandomForestClassifier\n",
    "from sklearn.feature_extraction.text import TfidfVectorizer\n",
    "from sklearn.compose import ColumnTransformer\n",
    "from sklearn.feature_extraction.text import CountVectorizer\n",
    "from sklearn.feature_extraction.text import TfidfTransformer\n",
    "\n",
    "# Librerías de nltk que serán utilizadas.\n",
    "import nltk\n",
    "nltk.download('punkt')\n",
    "nltk.download('stopwords')\n",
    "nltk.download('wordnet') \n",
    "\n",
    "# Preprocesamiento de texto.\n",
    "import contractions\n",
    "import inflect\n",
    "from nltk import word_tokenize, sent_tokenize\n",
    "from nltk.corpus import stopwords\n",
    "from nltk.stem import LancasterStemmer, WordNetLemmatizer\n"
   ]
  },
  {
   "cell_type": "markdown",
   "metadata": {},
   "source": [
    "## 2. Carga y entendimiento de los datos"
   ]
  },
  {
   "cell_type": "code",
   "execution_count": 3,
   "metadata": {},
   "outputs": [
    {
     "data": {
      "text/html": [
       "<div>\n",
       "<style scoped>\n",
       "    .dataframe tbody tr th:only-of-type {\n",
       "        vertical-align: middle;\n",
       "    }\n",
       "\n",
       "    .dataframe tbody tr th {\n",
       "        vertical-align: top;\n",
       "    }\n",
       "\n",
       "    .dataframe thead th {\n",
       "        text-align: right;\n",
       "    }\n",
       "</style>\n",
       "<table border=\"1\" class=\"dataframe\">\n",
       "  <thead>\n",
       "    <tr style=\"text-align: right;\">\n",
       "      <th></th>\n",
       "      <th>label</th>\n",
       "      <th>study_and_condition</th>\n",
       "    </tr>\n",
       "  </thead>\n",
       "  <tbody>\n",
       "    <tr>\n",
       "      <th>0</th>\n",
       "      <td>__label__0</td>\n",
       "      <td>study interventions are Saracatinib . recurren...</td>\n",
       "    </tr>\n",
       "    <tr>\n",
       "      <th>1</th>\n",
       "      <td>__label__1</td>\n",
       "      <td>study interventions are Stem cell transplantat...</td>\n",
       "    </tr>\n",
       "    <tr>\n",
       "      <th>2</th>\n",
       "      <td>__label__0</td>\n",
       "      <td>study interventions are Lenograstim . recurren...</td>\n",
       "    </tr>\n",
       "    <tr>\n",
       "      <th>3</th>\n",
       "      <td>__label__0</td>\n",
       "      <td>study interventions are Doxorubicin . stage ii...</td>\n",
       "    </tr>\n",
       "    <tr>\n",
       "      <th>4</th>\n",
       "      <td>__label__1</td>\n",
       "      <td>study interventions are Poly I-C . prostate ca...</td>\n",
       "    </tr>\n",
       "  </tbody>\n",
       "</table>\n",
       "</div>"
      ],
      "text/plain": [
       "        label                                study_and_condition\n",
       "0  __label__0  study interventions are Saracatinib . recurren...\n",
       "1  __label__1  study interventions are Stem cell transplantat...\n",
       "2  __label__0  study interventions are Lenograstim . recurren...\n",
       "3  __label__0  study interventions are Doxorubicin . stage ii...\n",
       "4  __label__1  study interventions are Poly I-C . prostate ca..."
      ]
     },
     "execution_count": 3,
     "metadata": {},
     "output_type": "execute_result"
    }
   ],
   "source": [
    "#Cargar datos al dataframe\n",
    "df_elegibilidad = pd.read_csv('clinical_trials_on_cancer_data_clasificacion.csv', sep=',', encoding = 'utf-8', na_values = '')\n",
    "\n",
    "#Ver parte de los datos\n",
    "df_elegibilidad.head()"
   ]
  },
  {
   "cell_type": "code",
   "execution_count": 4,
   "metadata": {},
   "outputs": [
    {
     "data": {
      "text/html": [
       "<div>\n",
       "<style scoped>\n",
       "    .dataframe tbody tr th:only-of-type {\n",
       "        vertical-align: middle;\n",
       "    }\n",
       "\n",
       "    .dataframe tbody tr th {\n",
       "        vertical-align: top;\n",
       "    }\n",
       "\n",
       "    .dataframe thead th {\n",
       "        text-align: right;\n",
       "    }\n",
       "</style>\n",
       "<table border=\"1\" class=\"dataframe\">\n",
       "  <thead>\n",
       "    <tr style=\"text-align: right;\">\n",
       "      <th></th>\n",
       "      <th>0</th>\n",
       "      <th>1</th>\n",
       "      <th>2</th>\n",
       "      <th>3</th>\n",
       "    </tr>\n",
       "  </thead>\n",
       "  <tbody>\n",
       "    <tr>\n",
       "      <th>0</th>\n",
       "      <td>study interventions are Saracatinib</td>\n",
       "      <td>recurrent verrucous carcinoma of the larynx d...</td>\n",
       "      <td>None</td>\n",
       "      <td>None</td>\n",
       "    </tr>\n",
       "    <tr>\n",
       "      <th>1</th>\n",
       "      <td>study interventions are Stem cell transplantat...</td>\n",
       "      <td>hodgkin lymphoma diagnosis and history of con...</td>\n",
       "      <td>None</td>\n",
       "      <td>None</td>\n",
       "    </tr>\n",
       "    <tr>\n",
       "      <th>2</th>\n",
       "      <td>study interventions are Lenograstim</td>\n",
       "      <td>recurrent adult diffuse mixed cell lymphoma d...</td>\n",
       "      <td>None</td>\n",
       "      <td>None</td>\n",
       "    </tr>\n",
       "    <tr>\n",
       "      <th>3</th>\n",
       "      <td>study interventions are Doxorubicin</td>\n",
       "      <td>stage iii diffuse large cell lymphoma diagnos...</td>\n",
       "      <td>None</td>\n",
       "      <td>None</td>\n",
       "    </tr>\n",
       "    <tr>\n",
       "      <th>4</th>\n",
       "      <td>study interventions are Poly I-C</td>\n",
       "      <td>prostate cancer diagnosis and unresolved irae...</td>\n",
       "      <td>None</td>\n",
       "      <td>None</td>\n",
       "    </tr>\n",
       "  </tbody>\n",
       "</table>\n",
       "</div>"
      ],
      "text/plain": [
       "                                                   0  \\\n",
       "0               study interventions are Saracatinib    \n",
       "1  study interventions are Stem cell transplantat...   \n",
       "2               study interventions are Lenograstim    \n",
       "3               study interventions are Doxorubicin    \n",
       "4                  study interventions are Poly I-C    \n",
       "\n",
       "                                                   1     2     3  \n",
       "0   recurrent verrucous carcinoma of the larynx d...  None  None  \n",
       "1   hodgkin lymphoma diagnosis and history of con...  None  None  \n",
       "2   recurrent adult diffuse mixed cell lymphoma d...  None  None  \n",
       "3   stage iii diffuse large cell lymphoma diagnos...  None  None  \n",
       "4   prostate cancer diagnosis and unresolved irae...  None  None  "
      ]
     },
     "execution_count": 4,
     "metadata": {},
     "output_type": "execute_result"
    }
   ],
   "source": [
    "#Separar la columna study_and_condition en 2 (study, condition)\n",
    "df_temp = df_elegibilidad['study_and_condition'].str.split('.', expand=True)\n",
    "df_temp.head()"
   ]
  },
  {
   "cell_type": "code",
   "execution_count": 5,
   "metadata": {},
   "outputs": [
    {
     "data": {
      "text/html": [
       "<div>\n",
       "<style scoped>\n",
       "    .dataframe tbody tr th:only-of-type {\n",
       "        vertical-align: middle;\n",
       "    }\n",
       "\n",
       "    .dataframe tbody tr th {\n",
       "        vertical-align: top;\n",
       "    }\n",
       "\n",
       "    .dataframe thead th {\n",
       "        text-align: right;\n",
       "    }\n",
       "</style>\n",
       "<table border=\"1\" class=\"dataframe\">\n",
       "  <thead>\n",
       "    <tr style=\"text-align: right;\">\n",
       "      <th></th>\n",
       "      <th>label</th>\n",
       "      <th>study</th>\n",
       "      <th>condition</th>\n",
       "    </tr>\n",
       "  </thead>\n",
       "  <tbody>\n",
       "    <tr>\n",
       "      <th>0</th>\n",
       "      <td>__label__0</td>\n",
       "      <td>study interventions are Saracatinib</td>\n",
       "      <td>recurrent verrucous carcinoma of the larynx d...</td>\n",
       "    </tr>\n",
       "    <tr>\n",
       "      <th>1</th>\n",
       "      <td>__label__1</td>\n",
       "      <td>study interventions are Stem cell transplantat...</td>\n",
       "      <td>hodgkin lymphoma diagnosis and history of con...</td>\n",
       "    </tr>\n",
       "    <tr>\n",
       "      <th>2</th>\n",
       "      <td>__label__0</td>\n",
       "      <td>study interventions are Lenograstim</td>\n",
       "      <td>recurrent adult diffuse mixed cell lymphoma d...</td>\n",
       "    </tr>\n",
       "    <tr>\n",
       "      <th>3</th>\n",
       "      <td>__label__0</td>\n",
       "      <td>study interventions are Doxorubicin</td>\n",
       "      <td>stage iii diffuse large cell lymphoma diagnos...</td>\n",
       "    </tr>\n",
       "    <tr>\n",
       "      <th>4</th>\n",
       "      <td>__label__1</td>\n",
       "      <td>study interventions are Poly I-C</td>\n",
       "      <td>prostate cancer diagnosis and unresolved irae...</td>\n",
       "    </tr>\n",
       "  </tbody>\n",
       "</table>\n",
       "</div>"
      ],
      "text/plain": [
       "        label                                              study  \\\n",
       "0  __label__0               study interventions are Saracatinib    \n",
       "1  __label__1  study interventions are Stem cell transplantat...   \n",
       "2  __label__0               study interventions are Lenograstim    \n",
       "3  __label__0               study interventions are Doxorubicin    \n",
       "4  __label__1                  study interventions are Poly I-C    \n",
       "\n",
       "                                           condition  \n",
       "0   recurrent verrucous carcinoma of the larynx d...  \n",
       "1   hodgkin lymphoma diagnosis and history of con...  \n",
       "2   recurrent adult diffuse mixed cell lymphoma d...  \n",
       "3   stage iii diffuse large cell lymphoma diagnos...  \n",
       "4   prostate cancer diagnosis and unresolved irae...  "
      ]
     },
     "execution_count": 5,
     "metadata": {},
     "output_type": "execute_result"
    }
   ],
   "source": [
    "#Las columnas 2 y 3 se generaron por puntos puestos o espacios, se juntan entonces las columnas 1,2,3 en una sola\n",
    "df_temp.fillna(\" \", inplace = True)\n",
    "df_temp['label'] = df_elegibilidad['label']\n",
    "df_temp['study'] = df_temp[0]\n",
    "df_temp['condition'] = df_temp[1] + df_temp[2] + df_temp[3]\n",
    "df_elegibilidad = df_temp.drop([0, 1, 2, 3], axis=1)\n",
    "df_elegibilidad.head()"
   ]
  },
  {
   "cell_type": "code",
   "execution_count": 6,
   "metadata": {},
   "outputs": [
    {
     "data": {
      "text/html": [
       "<div>\n",
       "<style scoped>\n",
       "    .dataframe tbody tr th:only-of-type {\n",
       "        vertical-align: middle;\n",
       "    }\n",
       "\n",
       "    .dataframe tbody tr th {\n",
       "        vertical-align: top;\n",
       "    }\n",
       "\n",
       "    .dataframe thead th {\n",
       "        text-align: right;\n",
       "    }\n",
       "</style>\n",
       "<table border=\"1\" class=\"dataframe\">\n",
       "  <thead>\n",
       "    <tr style=\"text-align: right;\">\n",
       "      <th></th>\n",
       "      <th>label</th>\n",
       "      <th>study</th>\n",
       "      <th>condition</th>\n",
       "    </tr>\n",
       "  </thead>\n",
       "  <tbody>\n",
       "    <tr>\n",
       "      <th>645</th>\n",
       "      <td>__label__0</td>\n",
       "      <td>study interventions are Antibodies</td>\n",
       "      <td>lymphoma diagnosis and not specified</td>\n",
       "    </tr>\n",
       "    <tr>\n",
       "      <th>945</th>\n",
       "      <td>__label__1</td>\n",
       "      <td>study interventions are Antibodies, Monoclonal</td>\n",
       "      <td>recurrent adult diffuse large cell lymphoma d...</td>\n",
       "    </tr>\n",
       "    <tr>\n",
       "      <th>996</th>\n",
       "      <td>__label__0</td>\n",
       "      <td>study interventions are Gemcitabine</td>\n",
       "      <td>ovarian cancer diagnosis and life expectancy</td>\n",
       "    </tr>\n",
       "    <tr>\n",
       "      <th>1099</th>\n",
       "      <td>__label__1</td>\n",
       "      <td>study interventions are Antibodies, Monoclonal</td>\n",
       "      <td>recurrent adult diffuse large cell lymphoma d...</td>\n",
       "    </tr>\n",
       "    <tr>\n",
       "      <th>1176</th>\n",
       "      <td>__label__0</td>\n",
       "      <td>study interventions are Cyclophosphamide</td>\n",
       "      <td>lymphoma diagnosis and not specified</td>\n",
       "    </tr>\n",
       "    <tr>\n",
       "      <th>1977</th>\n",
       "      <td>__label__0</td>\n",
       "      <td>study interventions are Methylprednisolone Hem...</td>\n",
       "      <td>lymphoma diagnosis and pulmonary</td>\n",
       "    </tr>\n",
       "    <tr>\n",
       "      <th>2099</th>\n",
       "      <td>__label__1</td>\n",
       "      <td>study interventions are Mycophenolic Acid</td>\n",
       "      <td>recurrent grade two follicular lymphoma diagn...</td>\n",
       "    </tr>\n",
       "    <tr>\n",
       "      <th>2337</th>\n",
       "      <td>__label__0</td>\n",
       "      <td>study interventions are Methylprednisolone Hem...</td>\n",
       "      <td>lymphoma diagnosis and pulmonary</td>\n",
       "    </tr>\n",
       "    <tr>\n",
       "      <th>2929</th>\n",
       "      <td>__label__0</td>\n",
       "      <td>study interventions are Methylprednisolone</td>\n",
       "      <td>lymphoma diagnosis and prior concurrent thera...</td>\n",
       "    </tr>\n",
       "    <tr>\n",
       "      <th>3747</th>\n",
       "      <td>__label__0</td>\n",
       "      <td>study interventions are Docetaxel</td>\n",
       "      <td>breast cancer diagnosis and age</td>\n",
       "    </tr>\n",
       "    <tr>\n",
       "      <th>4751</th>\n",
       "      <td>__label__0</td>\n",
       "      <td>study interventions are Methylprednisolone</td>\n",
       "      <td>lymphoma diagnosis and prior concurrent thera...</td>\n",
       "    </tr>\n",
       "    <tr>\n",
       "      <th>6711</th>\n",
       "      <td>__label__0</td>\n",
       "      <td>study interventions are Oxaliplatin</td>\n",
       "      <td>colorectal cancer diagnosis and not pregnant ...</td>\n",
       "    </tr>\n",
       "    <tr>\n",
       "      <th>6852</th>\n",
       "      <td>__label__1</td>\n",
       "      <td>study interventions are Mycophenolate mofetil</td>\n",
       "      <td>nodal marginal zone cell lymphoma diagnosis a...</td>\n",
       "    </tr>\n",
       "    <tr>\n",
       "      <th>7826</th>\n",
       "      <td>__label__1</td>\n",
       "      <td>study interventions are Fludarabine</td>\n",
       "      <td>anaplastic large cell lymphoma diagnosis and ...</td>\n",
       "    </tr>\n",
       "    <tr>\n",
       "      <th>7950</th>\n",
       "      <td>__label__0</td>\n",
       "      <td>study interventions are Isophosphamide mustard</td>\n",
       "      <td>lymphoma diagnosis and age</td>\n",
       "    </tr>\n",
       "    <tr>\n",
       "      <th>8084</th>\n",
       "      <td>__label__1</td>\n",
       "      <td>study interventions are Mycophenolate mofetil</td>\n",
       "      <td>nodal marginal zone cell lymphoma diagnosis a...</td>\n",
       "    </tr>\n",
       "    <tr>\n",
       "      <th>8441</th>\n",
       "      <td>__label__0</td>\n",
       "      <td>study interventions are Antibodies</td>\n",
       "      <td>lymphoma diagnosis and not specified</td>\n",
       "    </tr>\n",
       "    <tr>\n",
       "      <th>8665</th>\n",
       "      <td>__label__1</td>\n",
       "      <td>study interventions are Fludarabine</td>\n",
       "      <td>anaplastic large cell lymphoma diagnosis and ...</td>\n",
       "    </tr>\n",
       "    <tr>\n",
       "      <th>8773</th>\n",
       "      <td>__label__1</td>\n",
       "      <td>study interventions are Mycophenolic Acid</td>\n",
       "      <td>recurrent grade two follicular lymphoma diagn...</td>\n",
       "    </tr>\n",
       "    <tr>\n",
       "      <th>10341</th>\n",
       "      <td>__label__0</td>\n",
       "      <td>study interventions are Gemcitabine</td>\n",
       "      <td>ovarian cancer diagnosis and life expectancy</td>\n",
       "    </tr>\n",
       "    <tr>\n",
       "      <th>10524</th>\n",
       "      <td>__label__0</td>\n",
       "      <td>study interventions are Docetaxel</td>\n",
       "      <td>breast cancer diagnosis and age</td>\n",
       "    </tr>\n",
       "    <tr>\n",
       "      <th>11057</th>\n",
       "      <td>__label__0</td>\n",
       "      <td>study interventions are Oxaliplatin</td>\n",
       "      <td>colorectal cancer diagnosis and not pregnant ...</td>\n",
       "    </tr>\n",
       "    <tr>\n",
       "      <th>11260</th>\n",
       "      <td>__label__0</td>\n",
       "      <td>study interventions are Isophosphamide mustard</td>\n",
       "      <td>lymphoma diagnosis and age</td>\n",
       "    </tr>\n",
       "    <tr>\n",
       "      <th>11485</th>\n",
       "      <td>__label__0</td>\n",
       "      <td>study interventions are Cyclophosphamide</td>\n",
       "      <td>lymphoma diagnosis and not specified</td>\n",
       "    </tr>\n",
       "  </tbody>\n",
       "</table>\n",
       "</div>"
      ],
      "text/plain": [
       "            label                                              study  \\\n",
       "645    __label__0                study interventions are Antibodies    \n",
       "945    __label__1    study interventions are Antibodies, Monoclonal    \n",
       "996    __label__0               study interventions are Gemcitabine    \n",
       "1099   __label__1    study interventions are Antibodies, Monoclonal    \n",
       "1176   __label__0          study interventions are Cyclophosphamide    \n",
       "1977   __label__0  study interventions are Methylprednisolone Hem...   \n",
       "2099   __label__1         study interventions are Mycophenolic Acid    \n",
       "2337   __label__0  study interventions are Methylprednisolone Hem...   \n",
       "2929   __label__0        study interventions are Methylprednisolone    \n",
       "3747   __label__0                 study interventions are Docetaxel    \n",
       "4751   __label__0        study interventions are Methylprednisolone    \n",
       "6711   __label__0               study interventions are Oxaliplatin    \n",
       "6852   __label__1     study interventions are Mycophenolate mofetil    \n",
       "7826   __label__1               study interventions are Fludarabine    \n",
       "7950   __label__0    study interventions are Isophosphamide mustard    \n",
       "8084   __label__1     study interventions are Mycophenolate mofetil    \n",
       "8441   __label__0                study interventions are Antibodies    \n",
       "8665   __label__1               study interventions are Fludarabine    \n",
       "8773   __label__1         study interventions are Mycophenolic Acid    \n",
       "10341  __label__0               study interventions are Gemcitabine    \n",
       "10524  __label__0                 study interventions are Docetaxel    \n",
       "11057  __label__0               study interventions are Oxaliplatin    \n",
       "11260  __label__0    study interventions are Isophosphamide mustard    \n",
       "11485  __label__0          study interventions are Cyclophosphamide    \n",
       "\n",
       "                                               condition  \n",
       "645               lymphoma diagnosis and not specified    \n",
       "945     recurrent adult diffuse large cell lymphoma d...  \n",
       "996       ovarian cancer diagnosis and life expectancy    \n",
       "1099    recurrent adult diffuse large cell lymphoma d...  \n",
       "1176              lymphoma diagnosis and not specified    \n",
       "1977                  lymphoma diagnosis and pulmonary    \n",
       "2099    recurrent grade two follicular lymphoma diagn...  \n",
       "2337                  lymphoma diagnosis and pulmonary    \n",
       "2929    lymphoma diagnosis and prior concurrent thera...  \n",
       "3747                   breast cancer diagnosis and age    \n",
       "4751    lymphoma diagnosis and prior concurrent thera...  \n",
       "6711    colorectal cancer diagnosis and not pregnant ...  \n",
       "6852    nodal marginal zone cell lymphoma diagnosis a...  \n",
       "7826    anaplastic large cell lymphoma diagnosis and ...  \n",
       "7950                        lymphoma diagnosis and age    \n",
       "8084    nodal marginal zone cell lymphoma diagnosis a...  \n",
       "8441              lymphoma diagnosis and not specified    \n",
       "8665    anaplastic large cell lymphoma diagnosis and ...  \n",
       "8773    recurrent grade two follicular lymphoma diagn...  \n",
       "10341     ovarian cancer diagnosis and life expectancy    \n",
       "10524                  breast cancer diagnosis and age    \n",
       "11057   colorectal cancer diagnosis and not pregnant ...  \n",
       "11260                       lymphoma diagnosis and age    \n",
       "11485             lymphoma diagnosis and not specified    "
      ]
     },
     "execution_count": 6,
     "metadata": {},
     "output_type": "execute_result"
    }
   ],
   "source": [
    "#Ver si existen duplicados\n",
    "df_elegibilidad[df_elegibilidad.duplicated(keep=False)]"
   ]
  },
  {
   "cell_type": "code",
   "execution_count": 7,
   "metadata": {},
   "outputs": [],
   "source": [
    "#Eliminar duplicados\n",
    "df_elegibilidad = df_elegibilidad.drop_duplicates()"
   ]
  },
  {
   "cell_type": "code",
   "execution_count": 8,
   "metadata": {},
   "outputs": [
    {
     "data": {
      "text/plain": [
       "(11988, 3)"
      ]
     },
     "execution_count": 8,
     "metadata": {},
     "output_type": "execute_result"
    }
   ],
   "source": [
    "#Ver cantidad de columnas y cantidad de datos\n",
    "df_elegibilidad.shape"
   ]
  },
  {
   "cell_type": "code",
   "execution_count": 9,
   "metadata": {},
   "outputs": [
    {
     "data": {
      "text/plain": [
       "array(['__label__0', '__label__1'], dtype=object)"
      ]
     },
     "execution_count": 9,
     "metadata": {},
     "output_type": "execute_result"
    }
   ],
   "source": [
    "#Ver tipos de labels en los datos\n",
    "df_elegibilidad.label.unique()"
   ]
  },
  {
   "cell_type": "code",
   "execution_count": 10,
   "metadata": {},
   "outputs": [
    {
     "data": {
      "text/plain": [
       "label        0\n",
       "study        0\n",
       "condition    0\n",
       "dtype: int64"
      ]
     },
     "execution_count": 10,
     "metadata": {},
     "output_type": "execute_result"
    }
   ],
   "source": [
    "#Ver cantidad de datos vacios\n",
    "df_elegibilidad.isnull().sum()"
   ]
  },
  {
   "cell_type": "code",
   "execution_count": 11,
   "metadata": {},
   "outputs": [
    {
     "data": {
      "text/plain": [
       "label        object\n",
       "study        object\n",
       "condition    object\n",
       "dtype: object"
      ]
     },
     "execution_count": 11,
     "metadata": {},
     "output_type": "execute_result"
    }
   ],
   "source": [
    "#Ver tipos de datos\n",
    "df_elegibilidad.dtypes"
   ]
  },
  {
   "cell_type": "code",
   "execution_count": 12,
   "metadata": {},
   "outputs": [
    {
     "data": {
      "text/plain": [
       "<BarContainer object of 2 artists>"
      ]
     },
     "execution_count": 12,
     "metadata": {},
     "output_type": "execute_result"
    },
    {
     "data": {
      "image/png": "[encoded data removed]",
      "text/plain": [
       "<Figure size 432x288 with 1 Axes>"
      ]
     },
     "metadata": {
      "needs_background": "light"
     },
     "output_type": "display_data"
    }
   ],
   "source": [
    "#Ver distribucion de labels\n",
    "df_plot = df_elegibilidad['label'].value_counts().sort_values()\n",
    "plt.barh(df_plot.index, df_plot.values)"
   ]
  },
  {
   "cell_type": "markdown",
   "metadata": {},
   "source": [
    "## 3. Procesamiento del lenguaje natural (NLP)"
   ]
  },
  {
   "cell_type": "markdown",
   "metadata": {},
   "source": [
    "### 3.1 Funciones útiles"
   ]
  },
  {
   "cell_type": "code",
   "execution_count": 13,
   "metadata": {},
   "outputs": [],
   "source": [
    "# Funcion para remover caracteres no ASCII\n",
    "def remove_non_ascii(words):\n",
    "    \"\"\"Remove non-ASCII characters from list of tokenized words\"\"\"\n",
    "    new_words = []\n",
    "    for word in words:\n",
    "        new_word = unicodedata.normalize('NFKD', word).encode('ascii', 'ignore').decode('utf-8', 'ignore')\n",
    "        new_words.append(new_word)\n",
    "    return new_words\n"
   ]
  },
  {
   "cell_type": "code",
   "execution_count": 14,
   "metadata": {},
   "outputs": [],
   "source": [
    "# Funcion para pasar todas las palabras a minuscula\n",
    "def to_lowercase(words):\n",
    "    \"\"\"Convert all characters to lowercase from list of tokenized words\"\"\"\n",
    "    new_words = []\n",
    "    for word in words:\n",
    "        new_word = word.lower()\n",
    "        new_words.append(new_word)\n",
    "    return new_words"
   ]
  },
  {
   "cell_type": "code",
   "execution_count": 15,
   "metadata": {},
   "outputs": [],
   "source": [
    "#Funcion para quitar los signos de puntuacion\n",
    "def remove_punctuation(words):\n",
    "    \"\"\"Remove punctuation from list of tokenized words\"\"\"\n",
    "    new_words = []\n",
    "    for word in words:\n",
    "        new_word = re.sub(r'[^\\w\\s]', '', word)\n",
    "        if new_word != '':\n",
    "            new_words.append(new_word)\n",
    "    return new_words"
   ]
  },
  {
   "cell_type": "code",
   "execution_count": 16,
   "metadata": {},
   "outputs": [],
   "source": [
    "#Funcion para reemplazar los numeros a representacion en palabras\n",
    "def replace_numbers(words):\n",
    "    \"\"\"Replace all interger occurrences in list of tokenized words with textual representation\"\"\"\n",
    "    p = inflect.engine()\n",
    "    new_words = []\n",
    "    for word in words:\n",
    "        if word.isdigit():\n",
    "            new_word = p.number_to_words(word)\n",
    "            new_words.append(new_word)\n",
    "        else:\n",
    "            new_words.append(word)\n",
    "    return new_words"
   ]
  },
  {
   "cell_type": "code",
   "execution_count": 17,
   "metadata": {},
   "outputs": [],
   "source": [
    "#Remover los articulos, preposiciones, etc.\n",
    "def remove_stopwords(words):\n",
    "    \"\"\"Remove stop words from list of tokenized words\"\"\"\n",
    "    new_words = []\n",
    "    for word in words:\n",
    "        if word not in stopwords.words('english'):\n",
    "            new_words.append(word)\n",
    "    return new_words"
   ]
  },
  {
   "cell_type": "code",
   "execution_count": 18,
   "metadata": {},
   "outputs": [],
   "source": [
    "#Hacer preprocesamiento con stemming\n",
    "def stem_words(words):\n",
    "    \"\"\"Stem words in list of tokenized words\"\"\"\n",
    "    stemmer = LancasterStemmer()\n",
    "    stems = []\n",
    "    for word in words:\n",
    "        stem = stemmer.stem(word)\n",
    "        stems.append(stem)\n",
    "    return stems\n"
   ]
  },
  {
   "cell_type": "code",
   "execution_count": 19,
   "metadata": {},
   "outputs": [],
   "source": [
    "#Funcion para realizar el preprosesamiento \n",
    "def preprocessing(words):\n",
    "    words = to_lowercase(words)\n",
    "    words = replace_numbers(words)\n",
    "    words = remove_punctuation(words)\n",
    "    words = remove_non_ascii(words)\n",
    "    words = remove_stopwords(words)\n",
    "    return words"
   ]
  },
  {
   "cell_type": "markdown",
   "metadata": {},
   "source": [
    "### 3.2 Aplicación del procesamiento del lenguaje"
   ]
  },
  {
   "cell_type": "code",
   "execution_count": 20,
   "metadata": {},
   "outputs": [],
   "source": [
    "#Quitar las contracciones de las palabras \n",
    "df_elegibilidad['study'] = df_elegibilidad['study'].apply(contractions.fix)\n",
    "df_elegibilidad['condition'] = df_elegibilidad['condition'].apply(contractions.fix)"
   ]
  },
  {
   "cell_type": "code",
   "execution_count": 21,
   "metadata": {},
   "outputs": [],
   "source": [
    "#Realizar el preprocesamiento definido previamente\n",
    "df_elegibilidad['study'] = df_elegibilidad['study'].apply(word_tokenize).apply(preprocessing)\n",
    "df_elegibilidad['condition'] = df_elegibilidad['condition'].apply(word_tokenize).apply(preprocessing)"
   ]
  },
  {
   "cell_type": "code",
   "execution_count": 22,
   "metadata": {},
   "outputs": [
    {
     "data": {
      "text/plain": [
       "['study', 'interventions', 'saracatinib']"
      ]
     },
     "execution_count": 22,
     "metadata": {},
     "output_type": "execute_result"
    }
   ],
   "source": [
    "#Ver ejemplo de una fila de study\n",
    "df_elegibilidad['study'][0]"
   ]
  },
  {
   "cell_type": "code",
   "execution_count": 23,
   "metadata": {},
   "outputs": [
    {
     "data": {
      "text/plain": [
       "['recurrent',\n",
       " 'verrucous',\n",
       " 'carcinoma',\n",
       " 'larynx',\n",
       " 'diagnosis',\n",
       " 'patients',\n",
       " 'must',\n",
       " 'agree',\n",
       " 'use',\n",
       " 'adequate',\n",
       " 'birth',\n",
       " 'control',\n",
       " 'duration',\n",
       " 'study',\n",
       " 'participation',\n",
       " 'least',\n",
       " 'eight',\n",
       " 'weeks',\n",
       " 'discontinuation',\n",
       " 'study',\n",
       " 'drug']"
      ]
     },
     "execution_count": 23,
     "metadata": {},
     "output_type": "execute_result"
    }
   ],
   "source": [
    "#Ver ejemplo de una fila de condition\n",
    "df_elegibilidad['condition'][0]"
   ]
  },
  {
   "cell_type": "code",
   "execution_count": 24,
   "metadata": {},
   "outputs": [],
   "source": [
    "#Utilizar funciones previamente definidas para stem \n",
    "df_elegibilidad['study'] = df_elegibilidad['study'].apply(stem_words) \n",
    "df_elegibilidad['condition'] = df_elegibilidad['condition'].apply(stem_words) "
   ]
  },
  {
   "cell_type": "code",
   "execution_count": 25,
   "metadata": {},
   "outputs": [],
   "source": [
    "#Crear nueva columna con las palabras separadas por espacios\n",
    "df_elegibilidad['texto_study'] = df_elegibilidad['study'].apply(lambda x: ' '.join(map(str, x)))\n",
    "df_elegibilidad['texto_condition'] = df_elegibilidad['condition'].apply(lambda x: ' '.join(map(str, x)))"
   ]
  },
  {
   "cell_type": "code",
   "execution_count": 26,
   "metadata": {},
   "outputs": [],
   "source": [
    "#Poner tipos de datos en string\n",
    "df_elegibilidad['texto_study'] = df_elegibilidad['texto_study'].astype(str)\n",
    "df_elegibilidad['texto_condition'] = df_elegibilidad['texto_condition'].astype(str)"
   ]
  },
  {
   "cell_type": "code",
   "execution_count": 27,
   "metadata": {},
   "outputs": [
    {
     "data": {
      "text/html": [
       "<div>\n",
       "<style scoped>\n",
       "    .dataframe tbody tr th:only-of-type {\n",
       "        vertical-align: middle;\n",
       "    }\n",
       "\n",
       "    .dataframe tbody tr th {\n",
       "        vertical-align: top;\n",
       "    }\n",
       "\n",
       "    .dataframe thead th {\n",
       "        text-align: right;\n",
       "    }\n",
       "</style>\n",
       "<table border=\"1\" class=\"dataframe\">\n",
       "  <thead>\n",
       "    <tr style=\"text-align: right;\">\n",
       "      <th></th>\n",
       "      <th>label</th>\n",
       "      <th>study</th>\n",
       "      <th>condition</th>\n",
       "      <th>texto_study</th>\n",
       "      <th>texto_condition</th>\n",
       "    </tr>\n",
       "  </thead>\n",
       "  <tbody>\n",
       "    <tr>\n",
       "      <th>0</th>\n",
       "      <td>__label__0</td>\n",
       "      <td>[study, interv, saracatinib]</td>\n",
       "      <td>[recur, verruc, carcinom, larynx, diagnos, pat...</td>\n",
       "      <td>study interv saracatinib</td>\n",
       "      <td>recur verruc carcinom larynx diagnos paty must...</td>\n",
       "    </tr>\n",
       "    <tr>\n",
       "      <th>1</th>\n",
       "      <td>__label__1</td>\n",
       "      <td>[study, interv, stem, cel, transpl]</td>\n",
       "      <td>[hodgkin, lymphom, diagnos, hist, congenit, he...</td>\n",
       "      <td>study interv stem cel transpl</td>\n",
       "      <td>hodgkin lymphom diagnos hist congenit hematolo...</td>\n",
       "    </tr>\n",
       "    <tr>\n",
       "      <th>2</th>\n",
       "      <td>__label__0</td>\n",
       "      <td>[study, interv, lenograstim]</td>\n",
       "      <td>[recur, adult, diffus, mix, cel, lymphom, diag...</td>\n",
       "      <td>study interv lenograstim</td>\n",
       "      <td>recur adult diffus mix cel lymphom diagnos cre...</td>\n",
       "    </tr>\n",
       "    <tr>\n",
       "      <th>3</th>\n",
       "      <td>__label__0</td>\n",
       "      <td>[study, interv, doxorubicin]</td>\n",
       "      <td>[stag, ii, diffus, larg, cel, lymphom, diagnos...</td>\n",
       "      <td>study interv doxorubicin</td>\n",
       "      <td>stag ii diffus larg cel lymphom diagnos stag i...</td>\n",
       "    </tr>\n",
       "    <tr>\n",
       "      <th>4</th>\n",
       "      <td>__label__1</td>\n",
       "      <td>[study, interv, poly, ic]</td>\n",
       "      <td>[prost, cant, diagnos, unresolv, ira, follow, ...</td>\n",
       "      <td>study interv poly ic</td>\n",
       "      <td>prost cant diagnos unresolv ira follow pri bio...</td>\n",
       "    </tr>\n",
       "  </tbody>\n",
       "</table>\n",
       "</div>"
      ],
      "text/plain": [
       "        label                                study  \\\n",
       "0  __label__0         [study, interv, saracatinib]   \n",
       "1  __label__1  [study, interv, stem, cel, transpl]   \n",
       "2  __label__0         [study, interv, lenograstim]   \n",
       "3  __label__0         [study, interv, doxorubicin]   \n",
       "4  __label__1            [study, interv, poly, ic]   \n",
       "\n",
       "                                           condition  \\\n",
       "0  [recur, verruc, carcinom, larynx, diagnos, pat...   \n",
       "1  [hodgkin, lymphom, diagnos, hist, congenit, he...   \n",
       "2  [recur, adult, diffus, mix, cel, lymphom, diag...   \n",
       "3  [stag, ii, diffus, larg, cel, lymphom, diagnos...   \n",
       "4  [prost, cant, diagnos, unresolv, ira, follow, ...   \n",
       "\n",
       "                     texto_study  \\\n",
       "0       study interv saracatinib   \n",
       "1  study interv stem cel transpl   \n",
       "2       study interv lenograstim   \n",
       "3       study interv doxorubicin   \n",
       "4           study interv poly ic   \n",
       "\n",
       "                                     texto_condition  \n",
       "0  recur verruc carcinom larynx diagnos paty must...  \n",
       "1  hodgkin lymphom diagnos hist congenit hematolo...  \n",
       "2  recur adult diffus mix cel lymphom diagnos cre...  \n",
       "3  stag ii diffus larg cel lymphom diagnos stag i...  \n",
       "4  prost cant diagnos unresolv ira follow pri bio...  "
      ]
     },
     "execution_count": 27,
     "metadata": {},
     "output_type": "execute_result"
    }
   ],
   "source": [
    "#Ver parte de los datos\n",
    "df_elegibilidad.head()"
   ]
  },
  {
   "cell_type": "markdown",
   "metadata": {},
   "source": [
    "## 4. Modelos de clasificación (ML)"
   ]
  },
  {
   "cell_type": "markdown",
   "metadata": {},
   "source": [
    "### 4.1 KNN"
   ]
  },
  {
   "cell_type": "code",
   "execution_count": 28,
   "metadata": {},
   "outputs": [],
   "source": [
    "#Copiar el modelo para este algoritmo\n",
    "df_modeloKNN = df_elegibilidad.copy()\n",
    "\n",
    "#Columnas necesarias\n",
    "cols = ['texto_study', 'texto_condition']"
   ]
  },
  {
   "cell_type": "code",
   "execution_count": 29,
   "metadata": {},
   "outputs": [
    {
     "data": {
      "text/html": [
       "<div>\n",
       "<style scoped>\n",
       "    .dataframe tbody tr th:only-of-type {\n",
       "        vertical-align: middle;\n",
       "    }\n",
       "\n",
       "    .dataframe tbody tr th {\n",
       "        vertical-align: top;\n",
       "    }\n",
       "\n",
       "    .dataframe thead th {\n",
       "        text-align: right;\n",
       "    }\n",
       "</style>\n",
       "<table border=\"1\" class=\"dataframe\">\n",
       "  <thead>\n",
       "    <tr style=\"text-align: right;\">\n",
       "      <th></th>\n",
       "      <th>label</th>\n",
       "      <th>study</th>\n",
       "      <th>condition</th>\n",
       "      <th>texto_study</th>\n",
       "      <th>texto_condition</th>\n",
       "    </tr>\n",
       "  </thead>\n",
       "  <tbody>\n",
       "    <tr>\n",
       "      <th>0</th>\n",
       "      <td>0</td>\n",
       "      <td>[study, interv, saracatinib]</td>\n",
       "      <td>[recur, verruc, carcinom, larynx, diagnos, pat...</td>\n",
       "      <td>study interv saracatinib</td>\n",
       "      <td>recur verruc carcinom larynx diagnos paty must...</td>\n",
       "    </tr>\n",
       "    <tr>\n",
       "      <th>1</th>\n",
       "      <td>1</td>\n",
       "      <td>[study, interv, stem, cel, transpl]</td>\n",
       "      <td>[hodgkin, lymphom, diagnos, hist, congenit, he...</td>\n",
       "      <td>study interv stem cel transpl</td>\n",
       "      <td>hodgkin lymphom diagnos hist congenit hematolo...</td>\n",
       "    </tr>\n",
       "    <tr>\n",
       "      <th>2</th>\n",
       "      <td>0</td>\n",
       "      <td>[study, interv, lenograstim]</td>\n",
       "      <td>[recur, adult, diffus, mix, cel, lymphom, diag...</td>\n",
       "      <td>study interv lenograstim</td>\n",
       "      <td>recur adult diffus mix cel lymphom diagnos cre...</td>\n",
       "    </tr>\n",
       "    <tr>\n",
       "      <th>3</th>\n",
       "      <td>0</td>\n",
       "      <td>[study, interv, doxorubicin]</td>\n",
       "      <td>[stag, ii, diffus, larg, cel, lymphom, diagnos...</td>\n",
       "      <td>study interv doxorubicin</td>\n",
       "      <td>stag ii diffus larg cel lymphom diagnos stag i...</td>\n",
       "    </tr>\n",
       "    <tr>\n",
       "      <th>4</th>\n",
       "      <td>1</td>\n",
       "      <td>[study, interv, poly, ic]</td>\n",
       "      <td>[prost, cant, diagnos, unresolv, ira, follow, ...</td>\n",
       "      <td>study interv poly ic</td>\n",
       "      <td>prost cant diagnos unresolv ira follow pri bio...</td>\n",
       "    </tr>\n",
       "  </tbody>\n",
       "</table>\n",
       "</div>"
      ],
      "text/plain": [
       "   label                                study  \\\n",
       "0      0         [study, interv, saracatinib]   \n",
       "1      1  [study, interv, stem, cel, transpl]   \n",
       "2      0         [study, interv, lenograstim]   \n",
       "3      0         [study, interv, doxorubicin]   \n",
       "4      1            [study, interv, poly, ic]   \n",
       "\n",
       "                                           condition  \\\n",
       "0  [recur, verruc, carcinom, larynx, diagnos, pat...   \n",
       "1  [hodgkin, lymphom, diagnos, hist, congenit, he...   \n",
       "2  [recur, adult, diffus, mix, cel, lymphom, diag...   \n",
       "3  [stag, ii, diffus, larg, cel, lymphom, diagnos...   \n",
       "4  [prost, cant, diagnos, unresolv, ira, follow, ...   \n",
       "\n",
       "                     texto_study  \\\n",
       "0       study interv saracatinib   \n",
       "1  study interv stem cel transpl   \n",
       "2       study interv lenograstim   \n",
       "3       study interv doxorubicin   \n",
       "4           study interv poly ic   \n",
       "\n",
       "                                     texto_condition  \n",
       "0  recur verruc carcinom larynx diagnos paty must...  \n",
       "1  hodgkin lymphom diagnos hist congenit hematolo...  \n",
       "2  recur adult diffus mix cel lymphom diagnos cre...  \n",
       "3  stag ii diffus larg cel lymphom diagnos stag i...  \n",
       "4  prost cant diagnos unresolv ira follow pri bio...  "
      ]
     },
     "execution_count": 29,
     "metadata": {},
     "output_type": "execute_result"
    }
   ],
   "source": [
    "#Pasar labels a numerico para que el modelo funcione\n",
    "df_modeloKNN['label'] = df_modeloKNN.label.replace('__label__0', 0)\n",
    "df_modeloKNN['label'] = df_modeloKNN.label.replace('__label__1', 1)\n",
    "df_modeloKNN.head()"
   ]
  },
  {
   "cell_type": "code",
   "execution_count": 30,
   "metadata": {},
   "outputs": [],
   "source": [
    "#Dividir datos con Training Set\n",
    "X = df_modeloKNN[cols]\n",
    "Y = df_modeloKNN['label']"
   ]
  },
  {
   "cell_type": "code",
   "execution_count": 31,
   "metadata": {},
   "outputs": [
    {
     "data": {
      "text/plain": [
       "array(['0pd', '0three_two9', '0two_two009', ..., 'zomet', 'zon', 'zubrod'],\n",
       "      dtype=object)"
      ]
     },
     "execution_count": 31,
     "metadata": {},
     "output_type": "execute_result"
    }
   ],
   "source": [
    "#Vectorizar datos\n",
    "vectorizer  = TfidfVectorizer()\n",
    "x_v1 = vectorizer.fit_transform(X['texto_study'].tolist())\n",
    "x_v2 = vectorizer.fit_transform(X['texto_condition'].tolist())\n",
    "X = hstack((x_v1, x_v2))\n",
    "vectorizer.get_feature_names_out()"
   ]
  },
  {
   "cell_type": "code",
   "execution_count": 32,
   "metadata": {},
   "outputs": [],
   "source": [
    "#Particion\n",
    "X_train, X_test, Y_train, Y_test = train_test_split(X, Y, test_size=0.2, random_state=100)"
   ]
  },
  {
   "cell_type": "code",
   "execution_count": 33,
   "metadata": {},
   "outputs": [],
   "source": [
    "# Seleccion de hiperparametros\n",
    "particiones = KFold(n_splits=10, shuffle=True, random_state = 100)\n",
    "n_neighbors = list(range(2,11))\n",
    "n_odd_neighbors = list(filter(lambda x: (x % 2 != 0), n_neighbors))\n",
    "p=[1,2] #Función de distancia 1: manhattan, 2: euclidean, otro valor: minkowski\n",
    "\n",
    "#Hacer el Gridsearch\n",
    "hyperparameters = dict(n_neighbors=n_neighbors, p=p)\n",
    "knn_2 = KNeighborsClassifier()\n",
    "mejor_modelo_knn = GridSearchCV(knn_2, hyperparameters, cv=particiones)"
   ]
  },
  {
   "cell_type": "code",
   "execution_count": 34,
   "metadata": {},
   "outputs": [],
   "source": [
    "#Entrenar el modelo\n",
    "grid_search = mejor_modelo_knn.fit(X_train, Y_train)"
   ]
  },
  {
   "cell_type": "code",
   "execution_count": 35,
   "metadata": {},
   "outputs": [
    {
     "name": "stdout",
     "output_type": "stream",
     "text": [
      "Mejor funcion de distancia p: 1\n",
      "Mejor valor de n: 5\n"
     ]
    }
   ],
   "source": [
    "#Imprimir los valores de los hiperparametros\n",
    "print('Mejor funcion de distancia p:', grid_search.best_estimator_.get_params()['p'])\n",
    "print('Mejor valor de n:', grid_search.best_estimator_.get_params()['n_neighbors'])"
   ]
  },
  {
   "cell_type": "code",
   "execution_count": 36,
   "metadata": {},
   "outputs": [],
   "source": [
    "modelo_final = grid_search.best_estimator_"
   ]
  },
  {
   "cell_type": "code",
   "execution_count": 37,
   "metadata": {},
   "outputs": [
    {
     "name": "stdout",
     "output_type": "stream",
     "text": [
      "F1-Score Promedio: 0.68\n"
     ]
    }
   ],
   "source": [
    "# Se reporta el F1-Score y los mejores atributos.\n",
    "print('F1-Score Promedio: %.2f' % grid_search.best_score_)"
   ]
  },
  {
   "cell_type": "code",
   "execution_count": 38,
   "metadata": {},
   "outputs": [],
   "source": [
    "# Determinamos las predicciones del modelo sobre el conjunto test.\n",
    "y_pred = modelo_final.predict(X_test)"
   ]
  },
  {
   "cell_type": "code",
   "execution_count": 39,
   "metadata": {},
   "outputs": [
    {
     "data": {
      "image/png": "[encoded data removed]",
      "text/plain": [
       "<Figure size 432x288 with 2 Axes>"
      ]
     },
     "metadata": {
      "needs_background": "light"
     },
     "output_type": "display_data"
    }
   ],
   "source": [
    "# Se puede visualizar la matriz de confusión\n",
    "plot_confusion_matrix(modelo_final, X_test, Y_test)  \n",
    "plt.show() "
   ]
  },
  {
   "cell_type": "code",
   "execution_count": 40,
   "metadata": {},
   "outputs": [
    {
     "name": "stdout",
     "output_type": "stream",
     "text": [
      "              precision    recall  f1-score   support\n",
      "\n",
      "           0       0.65      0.81      0.72      1234\n",
      "           1       0.72      0.53      0.61      1164\n",
      "\n",
      "    accuracy                           0.67      2398\n",
      "   macro avg       0.68      0.67      0.66      2398\n",
      "weighted avg       0.68      0.67      0.67      2398\n",
      "\n"
     ]
    }
   ],
   "source": [
    "print(classification_report(Y_test, y_pred))"
   ]
  },
  {
   "cell_type": "markdown",
   "metadata": {},
   "source": [
    "### 4.2 Decision Tree"
   ]
  },
  {
   "cell_type": "code",
   "execution_count": 41,
   "metadata": {},
   "outputs": [],
   "source": [
    "#Copia del dataframe para el modelo arbol\n",
    "df_tree=df_elegibilidad.copy()"
   ]
  },
  {
   "cell_type": "code",
   "execution_count": 42,
   "metadata": {},
   "outputs": [
    {
     "data": {
      "text/html": [
       "<div>\n",
       "<style scoped>\n",
       "    .dataframe tbody tr th:only-of-type {\n",
       "        vertical-align: middle;\n",
       "    }\n",
       "\n",
       "    .dataframe tbody tr th {\n",
       "        vertical-align: top;\n",
       "    }\n",
       "\n",
       "    .dataframe thead th {\n",
       "        text-align: right;\n",
       "    }\n",
       "</style>\n",
       "<table border=\"1\" class=\"dataframe\">\n",
       "  <thead>\n",
       "    <tr style=\"text-align: right;\">\n",
       "      <th></th>\n",
       "      <th>label</th>\n",
       "      <th>study</th>\n",
       "      <th>condition</th>\n",
       "      <th>texto_study</th>\n",
       "      <th>texto_condition</th>\n",
       "    </tr>\n",
       "  </thead>\n",
       "  <tbody>\n",
       "    <tr>\n",
       "      <th>0</th>\n",
       "      <td>0</td>\n",
       "      <td>[study, interv, saracatinib]</td>\n",
       "      <td>[recur, verruc, carcinom, larynx, diagnos, pat...</td>\n",
       "      <td>study interv saracatinib</td>\n",
       "      <td>recur verruc carcinom larynx diagnos paty must...</td>\n",
       "    </tr>\n",
       "    <tr>\n",
       "      <th>1</th>\n",
       "      <td>1</td>\n",
       "      <td>[study, interv, stem, cel, transpl]</td>\n",
       "      <td>[hodgkin, lymphom, diagnos, hist, congenit, he...</td>\n",
       "      <td>study interv stem cel transpl</td>\n",
       "      <td>hodgkin lymphom diagnos hist congenit hematolo...</td>\n",
       "    </tr>\n",
       "    <tr>\n",
       "      <th>2</th>\n",
       "      <td>0</td>\n",
       "      <td>[study, interv, lenograstim]</td>\n",
       "      <td>[recur, adult, diffus, mix, cel, lymphom, diag...</td>\n",
       "      <td>study interv lenograstim</td>\n",
       "      <td>recur adult diffus mix cel lymphom diagnos cre...</td>\n",
       "    </tr>\n",
       "    <tr>\n",
       "      <th>3</th>\n",
       "      <td>0</td>\n",
       "      <td>[study, interv, doxorubicin]</td>\n",
       "      <td>[stag, ii, diffus, larg, cel, lymphom, diagnos...</td>\n",
       "      <td>study interv doxorubicin</td>\n",
       "      <td>stag ii diffus larg cel lymphom diagnos stag i...</td>\n",
       "    </tr>\n",
       "    <tr>\n",
       "      <th>4</th>\n",
       "      <td>1</td>\n",
       "      <td>[study, interv, poly, ic]</td>\n",
       "      <td>[prost, cant, diagnos, unresolv, ira, follow, ...</td>\n",
       "      <td>study interv poly ic</td>\n",
       "      <td>prost cant diagnos unresolv ira follow pri bio...</td>\n",
       "    </tr>\n",
       "  </tbody>\n",
       "</table>\n",
       "</div>"
      ],
      "text/plain": [
       "   label                                study  \\\n",
       "0      0         [study, interv, saracatinib]   \n",
       "1      1  [study, interv, stem, cel, transpl]   \n",
       "2      0         [study, interv, lenograstim]   \n",
       "3      0         [study, interv, doxorubicin]   \n",
       "4      1            [study, interv, poly, ic]   \n",
       "\n",
       "                                           condition  \\\n",
       "0  [recur, verruc, carcinom, larynx, diagnos, pat...   \n",
       "1  [hodgkin, lymphom, diagnos, hist, congenit, he...   \n",
       "2  [recur, adult, diffus, mix, cel, lymphom, diag...   \n",
       "3  [stag, ii, diffus, larg, cel, lymphom, diagnos...   \n",
       "4  [prost, cant, diagnos, unresolv, ira, follow, ...   \n",
       "\n",
       "                     texto_study  \\\n",
       "0       study interv saracatinib   \n",
       "1  study interv stem cel transpl   \n",
       "2       study interv lenograstim   \n",
       "3       study interv doxorubicin   \n",
       "4           study interv poly ic   \n",
       "\n",
       "                                     texto_condition  \n",
       "0  recur verruc carcinom larynx diagnos paty must...  \n",
       "1  hodgkin lymphom diagnos hist congenit hematolo...  \n",
       "2  recur adult diffus mix cel lymphom diagnos cre...  \n",
       "3  stag ii diffus larg cel lymphom diagnos stag i...  \n",
       "4  prost cant diagnos unresolv ira follow pri bio...  "
      ]
     },
     "execution_count": 42,
     "metadata": {},
     "output_type": "execute_result"
    }
   ],
   "source": [
    "#Pasar labels a numerico para que el modelo funcione\n",
    "df_tree['label'] = df_tree.label.replace('__label__0', 0)\n",
    "df_tree['label'] = df_tree.label.replace('__label__1', 1)\n",
    "df_tree.head()"
   ]
  },
  {
   "cell_type": "code",
   "execution_count": 43,
   "metadata": {},
   "outputs": [],
   "source": [
    "#Creación de Target para el modelo\n",
    "X = df_tree.drop('label', axis = 1)\n",
    "Y = df_tree['label']"
   ]
  },
  {
   "cell_type": "code",
   "execution_count": 44,
   "metadata": {},
   "outputs": [
    {
     "data": {
      "text/plain": [
       "array(['0pd', '0three_two9', '0two_two009', ..., 'zomet', 'zon', 'zubrod'],\n",
       "      dtype=object)"
      ]
     },
     "execution_count": 44,
     "metadata": {},
     "output_type": "execute_result"
    }
   ],
   "source": [
    "#Vectorizar datos\n",
    "vectorizer  = TfidfVectorizer()\n",
    "x_v1 = vectorizer.fit_transform(X['texto_study'].tolist())\n",
    "x_v2 = vectorizer.fit_transform(X['texto_condition'].tolist())\n",
    "X = hstack((x_v1, x_v2))\n",
    "vectorizer.get_feature_names_out()"
   ]
  },
  {
   "cell_type": "code",
   "execution_count": 45,
   "metadata": {},
   "outputs": [],
   "source": [
    "#Partición para el entrenamiento y prueba de datos \n",
    "X_train, X_test, Y_train, Y_test = train_test_split(X, Y, test_size=0.2, random_state=100)"
   ]
  },
  {
   "cell_type": "code",
   "execution_count": 46,
   "metadata": {},
   "outputs": [
    {
     "data": {
      "text/plain": [
       "GridSearchCV(cv=KFold(n_splits=10, random_state=0, shuffle=True),\n",
       "             estimator=DecisionTreeClassifier(random_state=100),\n",
       "             param_grid={'criterion': ['gini', 'entropy'],\n",
       "                         'max_depth': [100, 300, 500],\n",
       "                         'min_samples_split': [2, 3, 4]})"
      ]
     },
     "execution_count": 46,
     "metadata": {},
     "output_type": "execute_result"
    }
   ],
   "source": [
    "# Fijemos el número de particiones. Utilizaremos K = 10\n",
    "particiones = KFold(n_splits=10, shuffle=True, random_state = 0)\n",
    "# Establecemos el espacio de búsqueda para los hiperparámetros que deseamos ajustar. \n",
    "param_grid = {'criterion':['gini', 'entropy'],'max_depth':[100,300,500],'min_samples_split':[2, 3, 4]}\n",
    "arbol = DecisionTreeClassifier(random_state=100)\n",
    "# Ahora utilizamos GridSearch sobre el grid definido y con 10 particiones en la validación cruzada.\n",
    "mejor_modelo = GridSearchCV(arbol, param_grid, cv=particiones)\n",
    "# Ajuste del modelo\n",
    "mejor_modelo.fit(X_train, Y_train)"
   ]
  },
  {
   "cell_type": "code",
   "execution_count": 47,
   "metadata": {},
   "outputs": [
    {
     "data": {
      "text/plain": [
       "DecisionTreeClassifier(max_depth=100, min_samples_split=4, random_state=100)"
      ]
     },
     "execution_count": 47,
     "metadata": {},
     "output_type": "execute_result"
    }
   ],
   "source": [
    "final_model = mejor_modelo.best_estimator_\n",
    "final_model"
   ]
  },
  {
   "cell_type": "code",
   "execution_count": 48,
   "metadata": {},
   "outputs": [
    {
     "name": "stdout",
     "output_type": "stream",
     "text": [
      "F1-Score Promedio: 0.73\n",
      "Mejores Atributos\n"
     ]
    },
    {
     "data": {
      "text/html": [
       "<div>\n",
       "<style scoped>\n",
       "    .dataframe tbody tr th:only-of-type {\n",
       "        vertical-align: middle;\n",
       "    }\n",
       "\n",
       "    .dataframe tbody tr th {\n",
       "        vertical-align: top;\n",
       "    }\n",
       "\n",
       "    .dataframe thead th {\n",
       "        text-align: right;\n",
       "    }\n",
       "</style>\n",
       "<table border=\"1\" class=\"dataframe\">\n",
       "  <thead>\n",
       "    <tr style=\"text-align: right;\">\n",
       "      <th></th>\n",
       "      <th>0</th>\n",
       "    </tr>\n",
       "  </thead>\n",
       "  <tbody>\n",
       "    <tr>\n",
       "      <th>criterion</th>\n",
       "      <td>gini</td>\n",
       "    </tr>\n",
       "    <tr>\n",
       "      <th>max_depth</th>\n",
       "      <td>100</td>\n",
       "    </tr>\n",
       "    <tr>\n",
       "      <th>min_samples_split</th>\n",
       "      <td>4</td>\n",
       "    </tr>\n",
       "  </tbody>\n",
       "</table>\n",
       "</div>"
      ],
      "text/plain": [
       "                      0\n",
       "criterion          gini\n",
       "max_depth           100\n",
       "min_samples_split     4"
      ]
     },
     "execution_count": 48,
     "metadata": {},
     "output_type": "execute_result"
    }
   ],
   "source": [
    "# Se reporta el F1-Score y los mejores atributos.\n",
    "print('F1-Score Promedio: %.2f' % mejor_modelo.best_score_)\n",
    "print('Mejores Atributos')\n",
    "pd.DataFrame.from_dict(mejor_modelo.best_params_, orient='index')"
   ]
  },
  {
   "cell_type": "code",
   "execution_count": 49,
   "metadata": {},
   "outputs": [],
   "source": [
    "# Determinamos las predicciones del modelo sobre el conjunto test.\n",
    "y_pred = mejor_modelo.predict(X_test)"
   ]
  },
  {
   "cell_type": "code",
   "execution_count": 50,
   "metadata": {},
   "outputs": [
    {
     "data": {
      "text/plain": [
       "array([[921, 313],\n",
       "       [305, 859]], dtype=int64)"
      ]
     },
     "execution_count": 50,
     "metadata": {},
     "output_type": "execute_result"
    }
   ],
   "source": [
    "# Se genera la matriz de confusión\n",
    "confusion_matrix(Y_test, y_pred)"
   ]
  },
  {
   "cell_type": "code",
   "execution_count": 51,
   "metadata": {},
   "outputs": [
    {
     "data": {
      "image/png": "[encoded data removed]",
      "text/plain": [
       "<Figure size 432x288 with 2 Axes>"
      ]
     },
     "metadata": {
      "needs_background": "light"
     },
     "output_type": "display_data"
    }
   ],
   "source": [
    "# Se puede visualizar la matriz de confusión\n",
    "plot_confusion_matrix(mejor_modelo, X_test, Y_test)  \n",
    "plt.show()  "
   ]
  },
  {
   "cell_type": "code",
   "execution_count": 52,
   "metadata": {},
   "outputs": [
    {
     "name": "stdout",
     "output_type": "stream",
     "text": [
      "              precision    recall  f1-score   support\n",
      "\n",
      "           0       0.75      0.75      0.75      1234\n",
      "           1       0.73      0.74      0.74      1164\n",
      "\n",
      "    accuracy                           0.74      2398\n",
      "   macro avg       0.74      0.74      0.74      2398\n",
      "weighted avg       0.74      0.74      0.74      2398\n",
      "\n"
     ]
    }
   ],
   "source": [
    "print(classification_report(Y_test, y_pred))"
   ]
  },
  {
   "cell_type": "markdown",
   "metadata": {},
   "source": [
    "### 4.3 Random Forest"
   ]
  },
  {
   "cell_type": "code",
   "execution_count": 53,
   "metadata": {},
   "outputs": [],
   "source": [
    "#Copia del dataframe para el modelo Random Forest\n",
    "df_rf = df_elegibilidad.copy()"
   ]
  },
  {
   "cell_type": "code",
   "execution_count": 54,
   "metadata": {},
   "outputs": [
    {
     "data": {
      "text/html": [
       "<div>\n",
       "<style scoped>\n",
       "    .dataframe tbody tr th:only-of-type {\n",
       "        vertical-align: middle;\n",
       "    }\n",
       "\n",
       "    .dataframe tbody tr th {\n",
       "        vertical-align: top;\n",
       "    }\n",
       "\n",
       "    .dataframe thead th {\n",
       "        text-align: right;\n",
       "    }\n",
       "</style>\n",
       "<table border=\"1\" class=\"dataframe\">\n",
       "  <thead>\n",
       "    <tr style=\"text-align: right;\">\n",
       "      <th></th>\n",
       "      <th>label</th>\n",
       "      <th>study</th>\n",
       "      <th>condition</th>\n",
       "      <th>texto_study</th>\n",
       "      <th>texto_condition</th>\n",
       "    </tr>\n",
       "  </thead>\n",
       "  <tbody>\n",
       "    <tr>\n",
       "      <th>0</th>\n",
       "      <td>0</td>\n",
       "      <td>[study, interv, saracatinib]</td>\n",
       "      <td>[recur, verruc, carcinom, larynx, diagnos, pat...</td>\n",
       "      <td>study interv saracatinib</td>\n",
       "      <td>recur verruc carcinom larynx diagnos paty must...</td>\n",
       "    </tr>\n",
       "    <tr>\n",
       "      <th>1</th>\n",
       "      <td>1</td>\n",
       "      <td>[study, interv, stem, cel, transpl]</td>\n",
       "      <td>[hodgkin, lymphom, diagnos, hist, congenit, he...</td>\n",
       "      <td>study interv stem cel transpl</td>\n",
       "      <td>hodgkin lymphom diagnos hist congenit hematolo...</td>\n",
       "    </tr>\n",
       "    <tr>\n",
       "      <th>2</th>\n",
       "      <td>0</td>\n",
       "      <td>[study, interv, lenograstim]</td>\n",
       "      <td>[recur, adult, diffus, mix, cel, lymphom, diag...</td>\n",
       "      <td>study interv lenograstim</td>\n",
       "      <td>recur adult diffus mix cel lymphom diagnos cre...</td>\n",
       "    </tr>\n",
       "    <tr>\n",
       "      <th>3</th>\n",
       "      <td>0</td>\n",
       "      <td>[study, interv, doxorubicin]</td>\n",
       "      <td>[stag, ii, diffus, larg, cel, lymphom, diagnos...</td>\n",
       "      <td>study interv doxorubicin</td>\n",
       "      <td>stag ii diffus larg cel lymphom diagnos stag i...</td>\n",
       "    </tr>\n",
       "    <tr>\n",
       "      <th>4</th>\n",
       "      <td>1</td>\n",
       "      <td>[study, interv, poly, ic]</td>\n",
       "      <td>[prost, cant, diagnos, unresolv, ira, follow, ...</td>\n",
       "      <td>study interv poly ic</td>\n",
       "      <td>prost cant diagnos unresolv ira follow pri bio...</td>\n",
       "    </tr>\n",
       "  </tbody>\n",
       "</table>\n",
       "</div>"
      ],
      "text/plain": [
       "   label                                study  \\\n",
       "0      0         [study, interv, saracatinib]   \n",
       "1      1  [study, interv, stem, cel, transpl]   \n",
       "2      0         [study, interv, lenograstim]   \n",
       "3      0         [study, interv, doxorubicin]   \n",
       "4      1            [study, interv, poly, ic]   \n",
       "\n",
       "                                           condition  \\\n",
       "0  [recur, verruc, carcinom, larynx, diagnos, pat...   \n",
       "1  [hodgkin, lymphom, diagnos, hist, congenit, he...   \n",
       "2  [recur, adult, diffus, mix, cel, lymphom, diag...   \n",
       "3  [stag, ii, diffus, larg, cel, lymphom, diagnos...   \n",
       "4  [prost, cant, diagnos, unresolv, ira, follow, ...   \n",
       "\n",
       "                     texto_study  \\\n",
       "0       study interv saracatinib   \n",
       "1  study interv stem cel transpl   \n",
       "2       study interv lenograstim   \n",
       "3       study interv doxorubicin   \n",
       "4           study interv poly ic   \n",
       "\n",
       "                                     texto_condition  \n",
       "0  recur verruc carcinom larynx diagnos paty must...  \n",
       "1  hodgkin lymphom diagnos hist congenit hematolo...  \n",
       "2  recur adult diffus mix cel lymphom diagnos cre...  \n",
       "3  stag ii diffus larg cel lymphom diagnos stag i...  \n",
       "4  prost cant diagnos unresolv ira follow pri bio...  "
      ]
     },
     "execution_count": 54,
     "metadata": {},
     "output_type": "execute_result"
    }
   ],
   "source": [
    "#Pasar labels a numerico para que el modelo funcione\n",
    "df_rf['label'] = df_rf.label.replace('__label__0', 0)\n",
    "df_rf['label'] = df_rf.label.replace('__label__1', 1)\n",
    "df_rf.head()"
   ]
  },
  {
   "cell_type": "code",
   "execution_count": 55,
   "metadata": {},
   "outputs": [],
   "source": [
    "#Creación de Target para el modelo\n",
    "X = df_rf.drop('label', axis = 1)\n",
    "Y = df_rf['label']"
   ]
  },
  {
   "cell_type": "code",
   "execution_count": 56,
   "metadata": {},
   "outputs": [],
   "source": [
    "#Vectorizar datos\n",
    "vectorizer1  = TfidfVectorizer()\n",
    "vectorizer2  = TfidfVectorizer()\n",
    "x_v1 = vectorizer1.fit_transform(X['texto_study'].tolist())\n",
    "x_v2 = vectorizer2.fit_transform(X['texto_condition'].tolist())\n",
    "X = hstack((x_v1, x_v2))\n",
    "\n",
    "arr1 = vectorizer1.get_feature_names_out()\n",
    "arr2 = vectorizer2.get_feature_names_out()\n",
    "arr3 = np.concatenate((arr1, arr2))"
   ]
  },
  {
   "cell_type": "code",
   "execution_count": 57,
   "metadata": {},
   "outputs": [],
   "source": [
    "X_train, X_test, Y_train, Y_test = train_test_split(X, Y, test_size=0.2, random_state=100)"
   ]
  },
  {
   "cell_type": "code",
   "execution_count": 58,
   "metadata": {},
   "outputs": [],
   "source": [
    "#Ahora, buscaremos mejorar el modelo encontrar mejores hiperparametros \n",
    "#Buscar Hiperparametros\n",
    "particiones = KFold(n_splits=10, shuffle=True, random_state = 0)\n",
    "\n",
    "# Establecemos el espacio de búsqueda para los hiperparámetros que deseamos ajustar. \n",
    "param_grid = {'criterion':['gini', 'entropy'],'max_depth':[100,300,500],'n_estimators':[30,50,80]}\n",
    "\n",
    "\n",
    "#Crear el modelo\n",
    "model_rf_hp = RandomForestClassifier()"
   ]
  },
  {
   "cell_type": "code",
   "execution_count": 59,
   "metadata": {},
   "outputs": [
    {
     "name": "stdout",
     "output_type": "stream",
     "text": [
      "F1-Score Promedio: 0.81\n",
      "Mejores Atributos\n"
     ]
    },
    {
     "data": {
      "text/html": [
       "<div>\n",
       "<style scoped>\n",
       "    .dataframe tbody tr th:only-of-type {\n",
       "        vertical-align: middle;\n",
       "    }\n",
       "\n",
       "    .dataframe tbody tr th {\n",
       "        vertical-align: top;\n",
       "    }\n",
       "\n",
       "    .dataframe thead th {\n",
       "        text-align: right;\n",
       "    }\n",
       "</style>\n",
       "<table border=\"1\" class=\"dataframe\">\n",
       "  <thead>\n",
       "    <tr style=\"text-align: right;\">\n",
       "      <th></th>\n",
       "      <th>0</th>\n",
       "    </tr>\n",
       "  </thead>\n",
       "  <tbody>\n",
       "    <tr>\n",
       "      <th>criterion</th>\n",
       "      <td>gini</td>\n",
       "    </tr>\n",
       "    <tr>\n",
       "      <th>max_depth</th>\n",
       "      <td>500</td>\n",
       "    </tr>\n",
       "    <tr>\n",
       "      <th>n_estimators</th>\n",
       "      <td>80</td>\n",
       "    </tr>\n",
       "  </tbody>\n",
       "</table>\n",
       "</div>"
      ],
      "text/plain": [
       "                 0\n",
       "criterion     gini\n",
       "max_depth      500\n",
       "n_estimators    80"
      ]
     },
     "execution_count": 59,
     "metadata": {},
     "output_type": "execute_result"
    }
   ],
   "source": [
    "# Ahora utilizamos GridSearch sobre el grid definido y con 10 particiones en la validación cruzada.\n",
    "mejor_modelo = GridSearchCV(model_rf_hp, param_grid, cv=particiones)\n",
    "# Ajuste del modelo\n",
    "mejor_modelo.fit(X_train, Y_train)\n",
    "\n",
    "#Podemos ver cuál fue el resultado de la búsqueda (mejores valores de hiperparámetros)\n",
    "print('F1-Score Promedio: %.2f' % mejor_modelo.best_score_)\n",
    "print('Mejores Atributos')\n",
    "pd.DataFrame.from_dict(mejor_modelo.best_params_, orient='index')"
   ]
  },
  {
   "cell_type": "code",
   "execution_count": 60,
   "metadata": {},
   "outputs": [],
   "source": [
    "# Determinamos las predicciones del modelo sobre el conjunto test.\n",
    "y_pred = mejor_modelo.predict(X_test)"
   ]
  },
  {
   "cell_type": "code",
   "execution_count": 61,
   "metadata": {},
   "outputs": [
    {
     "data": {
      "text/plain": [
       "array([[965, 269],\n",
       "       [210, 954]], dtype=int64)"
      ]
     },
     "execution_count": 61,
     "metadata": {},
     "output_type": "execute_result"
    }
   ],
   "source": [
    "# Se genera la matriz de confusión\n",
    "confusion_matrix(Y_test, y_pred)"
   ]
  },
  {
   "cell_type": "code",
   "execution_count": 62,
   "metadata": {},
   "outputs": [
    {
     "data": {
      "image/png": "[encoded data removed]",
      "text/plain": [
       "<Figure size 432x288 with 2 Axes>"
      ]
     },
     "metadata": {
      "needs_background": "light"
     },
     "output_type": "display_data"
    }
   ],
   "source": [
    "# Se puede visualizar la matriz de confusión\n",
    "plot_confusion_matrix(mejor_modelo, X_test, Y_test)  \n",
    "plt.show() "
   ]
  },
  {
   "cell_type": "code",
   "execution_count": 63,
   "metadata": {},
   "outputs": [
    {
     "name": "stdout",
     "output_type": "stream",
     "text": [
      "              precision    recall  f1-score   support\n",
      "\n",
      "           0       0.82      0.78      0.80      1234\n",
      "           1       0.78      0.82      0.80      1164\n",
      "\n",
      "    accuracy                           0.80      2398\n",
      "   macro avg       0.80      0.80      0.80      2398\n",
      "weighted avg       0.80      0.80      0.80      2398\n",
      "\n"
     ]
    }
   ],
   "source": [
    "print(classification_report(Y_test, y_pred))"
   ]
  },
  {
   "cell_type": "code",
   "execution_count": 67,
   "metadata": {},
   "outputs": [
    {
     "data": {
      "text/html": [
       "<div>\n",
       "<style scoped>\n",
       "    .dataframe tbody tr th:only-of-type {\n",
       "        vertical-align: middle;\n",
       "    }\n",
       "\n",
       "    .dataframe tbody tr th {\n",
       "        vertical-align: top;\n",
       "    }\n",
       "\n",
       "    .dataframe thead th {\n",
       "        text-align: right;\n",
       "    }\n",
       "</style>\n",
       "<table border=\"1\" class=\"dataframe\">\n",
       "  <thead>\n",
       "    <tr style=\"text-align: right;\">\n",
       "      <th></th>\n",
       "      <th>Atributo</th>\n",
       "      <th>Importancia</th>\n",
       "    </tr>\n",
       "  </thead>\n",
       "  <tbody>\n",
       "    <tr>\n",
       "      <th>0</th>\n",
       "      <td>diagnos</td>\n",
       "      <td>0.023052</td>\n",
       "    </tr>\n",
       "    <tr>\n",
       "      <th>1</th>\n",
       "      <td>must</td>\n",
       "      <td>0.019049</td>\n",
       "    </tr>\n",
       "    <tr>\n",
       "      <th>2</th>\n",
       "      <td>interv</td>\n",
       "      <td>0.014903</td>\n",
       "    </tr>\n",
       "    <tr>\n",
       "      <th>3</th>\n",
       "      <td>study</td>\n",
       "      <td>0.014840</td>\n",
       "    </tr>\n",
       "    <tr>\n",
       "      <th>4</th>\n",
       "      <td>hist</td>\n",
       "      <td>0.012662</td>\n",
       "    </tr>\n",
       "    <tr>\n",
       "      <th>5</th>\n",
       "      <td>cant</td>\n",
       "      <td>0.012002</td>\n",
       "    </tr>\n",
       "    <tr>\n",
       "      <th>6</th>\n",
       "      <td>tre</td>\n",
       "      <td>0.009634</td>\n",
       "    </tr>\n",
       "    <tr>\n",
       "      <th>7</th>\n",
       "      <td>lymphom</td>\n",
       "      <td>0.009522</td>\n",
       "    </tr>\n",
       "    <tr>\n",
       "      <th>8</th>\n",
       "      <td>paty</td>\n",
       "      <td>0.009205</td>\n",
       "    </tr>\n",
       "    <tr>\n",
       "      <th>9</th>\n",
       "      <td>least</td>\n",
       "      <td>0.007669</td>\n",
       "    </tr>\n",
       "  </tbody>\n",
       "</table>\n",
       "</div>"
      ],
      "text/plain": [
       "  Atributo  Importancia\n",
       "0  diagnos     0.023052\n",
       "1     must     0.019049\n",
       "2   interv     0.014903\n",
       "3    study     0.014840\n",
       "4     hist     0.012662\n",
       "5     cant     0.012002\n",
       "6      tre     0.009634\n",
       "7  lymphom     0.009522\n",
       "8     paty     0.009205\n",
       "9    least     0.007669"
      ]
     },
     "execution_count": 67,
     "metadata": {},
     "output_type": "execute_result"
    }
   ],
   "source": [
    "finalModel = mejor_modelo.best_estimator_\n",
    "importancia = finalModel.feature_importances_\n",
    "importancia_atributo = pd.DataFrame(data={\"Atributo\": arr3,\"Importancia\": importancia})\n",
    "importancia_atributo = importancia_atributo.sort_values(by='Importancia', ascending=False).reset_index(drop=True)\n",
    "importancia_atributo.head(10)"
   ]
  },
  {
   "cell_type": "markdown",
   "metadata": {},
   "source": [
    "## 5. Exportar datos a excel para tablero de control"
   ]
  },
  {
   "cell_type": "code",
   "execution_count": 65,
   "metadata": {},
   "outputs": [],
   "source": [
    "df_elegibilidad.to_excel('datosTableroDeControl.xlsx')"
   ]
  },
  {
   "cell_type": "code",
   "execution_count": 66,
   "metadata": {},
   "outputs": [],
   "source": [
    "#Resultados de RandomForest\n",
    "data = {'Metric':['0','1','Macro Average','Weighted Average'], 'Precision':['0.82','0.78','0.80','0.80'], 'Recall':['0.78','0.82','0.80','0.80'], 'F1-Score':['0.80','0.80','0.80','0.80']}\n",
    "\n",
    "df_resultados = pd.DataFrame(data)  \n",
    "df_resultados.to_excel('datosTableroDeControlResultados.xlsx')"
   ]
  },
  {
   "cell_type": "code",
   "execution_count": null,
   "metadata": {},
   "outputs": [],
   "source": []
  }
 ],
 "metadata": {
  "kernelspec": {
   "display_name": "Python 3",
   "language": "python",
   "name": "python3"
  },
  "language_info": {
   "codemirror_mode": {
    "name": "ipython",
    "version": 3
   },
   "file_extension": ".py",
   "mimetype": "text/x-python",
   "name": "python",
   "nbconvert_exporter": "python",
   "pygments_lexer": "ipython3",
   "version": "3.7.6"
  }
 },
 "nbformat": 4,
 "nbformat_minor": 4
}
